{
 "cells": [
  {
   "cell_type": "markdown",
   "metadata": {},
   "source": [
    "# Numpy"
   ]
  },
  {
   "cell_type": "markdown",
   "metadata": {},
   "source": [
    "NumPy (Numerical Python) is an open source Python library that’s used for working with numerical data in Python. It is a general-purpose array-processing package. It provides a high-performance multidimensional array object, and tools for working with these arrays. It is the fundamental package for scientific computing with Python.\n",
    "\n",
    "Numpy can also be used as an efficient multi-dimensional container of generic data."
   ]
  },
  {
   "cell_type": "markdown",
   "metadata": {},
   "source": [
    "# Installing Numpy\n",
    "pip install numpy"
   ]
  },
  {
   "cell_type": "markdown",
   "metadata": {},
   "source": [
    "# Importing Numpy\n",
    "import numpy as np"
   ]
  },
  {
   "cell_type": "markdown",
   "metadata": {},
   "source": [
    "# Numpy arrays\n",
    "Creating a Basic Array"
   ]
  },
  {
   "cell_type": "code",
   "execution_count": 23,
   "metadata": {},
   "outputs": [
    {
     "name": "stdout",
     "output_type": "stream",
     "text": [
      "Requirement already satisfied: numpy in c:\\users\\balas\\data\\lib\\site-packages (1.18.5)\n",
      "Note: you may need to restart the kernel to use updated packages.\n"
     ]
    }
   ],
   "source": [
    "pip install numpy"
   ]
  },
  {
   "cell_type": "code",
   "execution_count": 12,
   "metadata": {},
   "outputs": [
    {
     "name": "stdout",
     "output_type": "stream",
     "text": [
      "[1 2 3 4]\n",
      "['a,b,c,d']\n",
      "['a' '1' 'b' 'c' '2' '#']\n",
      "<class 'numpy.ndarray'>\n",
      "<class 'numpy.ndarray'>\n",
      "<class 'numpy.ndarray'>\n"
     ]
    }
   ],
   "source": [
    "import numpy as np #importing numpy\n",
    "arr1=np.array([1,2,3,4])#definig numpy in array\n",
    "arr2=np.array([\"a,b,c,d\"])\n",
    "arr3=np.array([\"a\",1,\"b\",\"c\",2,\"#\"])\n",
    "print(arr1)\n",
    "print(arr2)\n",
    "print(arr3)\n",
    "print(type(arr1))\n",
    "print(type(arr2))\n",
    "print(type(arr3))"
   ]
  },
  {
   "cell_type": "markdown",
   "metadata": {},
   "source": [
    "# #Arrays using np.zeros(), np.ones(), np.arange()"
   ]
  },
  {
   "cell_type": "code",
   "execution_count": 18,
   "metadata": {},
   "outputs": [
    {
     "name": "stdout",
     "output_type": "stream",
     "text": [
      "[0. 0. 0.]\n"
     ]
    }
   ],
   "source": [
    "import numpy as np\n",
    "zero=np.zeros(3)\n",
    "print(zero)"
   ]
  },
  {
   "cell_type": "code",
   "execution_count": 29,
   "metadata": {},
   "outputs": [
    {
     "name": "stdout",
     "output_type": "stream",
     "text": [
      "[1. 1. 1. 1. 1.]\n",
      "[0 1 2 3 4 5]\n",
      "[ 1  2  3  4  5  6  7  8  9 10 11 12 13 14 15 16 17 18 19]\n",
      "[ 1  6 11 16 21 26]\n",
      "<class 'numpy.ndarray'>\n",
      "<class 'numpy.ndarray'>\n",
      "<class 'numpy.ndarray'>\n"
     ]
    }
   ],
   "source": [
    "import numpy as np\n",
    "one=np.ones(5)# numpy as ones to print for 5 times\n",
    "a=np.arange(6)#numpy as to arange numbers up to 6\n",
    "b=np.arange(1,20)#numpy as to arrange numbers from START argument-1 to End arugument-20\n",
    "c=np.arange(1,30,5)#numpy as to arrnage start arugument-to End arugument-30 with a span of -Third argument 5\n",
    "print(one)\n",
    "print(a)\n",
    "print(b)\n",
    "print(c)\n",
    "print(type(a))\n",
    "print(type(b))\n",
    "print(type(c))"
   ]
  },
  {
   "cell_type": "markdown",
   "metadata": {},
   "source": [
    "# NdArray (N-Dimensional Array)\n",
    "A 2-Dimensional Array"
   ]
  },
  {
   "cell_type": "code",
   "execution_count": 8,
   "metadata": {},
   "outputs": [
    {
     "name": "stdout",
     "output_type": "stream",
     "text": [
      "[[1 2 3]\n",
      " [4 5 6]]\n",
      "[[1 2]\n",
      " [3 4]\n",
      " [5 6]]\n",
      "[[0. 0. 0.]\n",
      " [0. 0. 0.]\n",
      " [0. 0. 0.]]\n",
      "[[1. 1. 1. 1.]\n",
      " [1. 1. 1. 1.]\n",
      " [1. 1. 1. 1.]\n",
      " [1. 1. 1. 1.]]\n",
      "[[1 1]\n",
      " [1 1]]\n"
     ]
    }
   ],
   "source": [
    "import numpy as np # importing numpy\n",
    "array_1=np.array([[1,2,3],[4,5,6]])#2 Dimensional Array 2*array type\n",
    "array_2=np.array([[1,2],[3,4],[5,6]])# 2 Dimensional with 3*3 array type\n",
    "zero=np.zeros((3,3))#Creating zeros with 3*3 array\n",
    "one=np.ones((4,4))# creating one  with 4*4 array\n",
    "ones=np.ones((2,2),dtype='int64')  #specify the type with (dtype) parameter\n",
    "print(array_1)\n",
    "print(array_2)\n",
    "print(zero)\n",
    "print(one)\n",
    "print(ones)"
   ]
  },
  {
   "cell_type": "markdown",
   "metadata": {},
   "source": [
    "# ndim____ndimensional\n",
    "Cool Checkouts using this in print functional"
   ]
  },
  {
   "cell_type": "code",
   "execution_count": 11,
   "metadata": {},
   "outputs": [
    {
     "name": "stdout",
     "output_type": "stream",
     "text": [
      "0\n",
      "2\n",
      "2\n",
      "3\n"
     ]
    }
   ],
   "source": [
    "import numpy as np\n",
    "a=np.array(61)# index0\n",
    "b=np.array([[61,106],[106,61]])#index 2\n",
    "c=np.array([[1,2,3],[2,3,4],[3,4,5],[4,5,6]])#index2\n",
    "d=np.array([[[1,2,3],[2,3,4],[3,4,5],[4,5,6]]])\n",
    "print(a.ndim)\n",
    "print(b.ndim)\n",
    "print(c.ndim)\n",
    "print(d.ndim)"
   ]
  },
  {
   "cell_type": "markdown",
   "metadata": {},
   "source": [
    "Basic Operators in array"
   ]
  },
  {
   "cell_type": "code",
   "execution_count": 14,
   "metadata": {},
   "outputs": [
    {
     "name": "stdout",
     "output_type": "stream",
     "text": [
      "[1 2 3 4]\n",
      "[5 6 7 8]\n",
      "addition [ 6  8 10 12]\n",
      "subtraction [-4 -4 -4 -4]\n",
      "division [5.         3.         2.33333333 2.        ]\n",
      "multiplication [ 5 12 21 32]\n",
      "adding 1 to alla elemnts [ 7  9 11 13]\n"
     ]
    }
   ],
   "source": [
    "import numpy as np\n",
    "a=np.array([1,2,3,4])\n",
    "b=np.array([5,6,7,8])\n",
    "c=a+b\n",
    "d=a-b\n",
    "e=b/a\n",
    "f=a*b\n",
    "print(a)\n",
    "print(b)\n",
    "print(\"addition\",c)\n",
    "print(\"subtraction\",d)\n",
    "print(\"division\",e)\n",
    "print(\"multiplication\",f)\n",
    "print(\"adding 1 to alla elemnts\",c+1)"
   ]
  },
  {
   "cell_type": "markdown",
   "metadata": {},
   "source": [
    "array indexing & Slicing"
   ]
  },
  {
   "cell_type": "code",
   "execution_count": 27,
   "metadata": {},
   "outputs": [
    {
     "name": "stdout",
     "output_type": "stream",
     "text": [
      "1\n",
      "[7 8]\n",
      "8\n",
      "['L' 'E' 'N' 'O']\n",
      "[1 2]\n",
      "O\n",
      "['O' 'V' 'O' 'N' 'E' 'L']\n"
     ]
    }
   ],
   "source": [
    "import numpy as np\n",
    "a=np.array([1,2,3,4])\n",
    "b=np.array([[5,6],[7,8]])\n",
    "c=np.array(['L','E','N','O','V','O'])\n",
    "d=np.array([[[1,2],[2,3],[4,5]]])\n",
    "print(a[0])#index 0\n",
    "print(b[1])# whole index1\n",
    "print(b[1,1])# in index 1, 1st element \n",
    "print(c[0:4])# Slicing similar to lists\n",
    "print(d[0,0])\n",
    "print(c[-1])\n",
    "print(c[::-1])#reverse"
   ]
  },
  {
   "cell_type": "markdown",
   "metadata": {},
   "source": [
    "# Numpy Functions"
   ]
  },
  {
   "cell_type": "markdown",
   "metadata": {},
   "source": [
    "# Numpy array shape"
   ]
  },
  {
   "cell_type": "code",
   "execution_count": 30,
   "metadata": {},
   "outputs": [
    {
     "name": "stdout",
     "output_type": "stream",
     "text": [
      "(5,)\n",
      "(2, 5)\n"
     ]
    }
   ],
   "source": [
    "import numpy as np\n",
    "a=np.array([1,2,3,4,5])\n",
    "b=np.array([[1,2,3,4,5],[6,7,8,9,10]])\n",
    "print(a.shape)# single set with 5 elements\n",
    "print(b.shape)# two sets of 5 elemets of each"
   ]
  },
  {
   "cell_type": "code",
   "execution_count": 32,
   "metadata": {},
   "outputs": [
    {
     "name": "stdout",
     "output_type": "stream",
     "text": [
      "3\n",
      "(3, 2, 5)\n",
      "30\n"
     ]
    }
   ],
   "source": [
    "import numpy as np\n",
    "a=np.array([[[0,1,2,3,4],\n",
    "             [5,6,7,8,9]],\n",
    "            [[0,1,2,3,4],\n",
    "             [5,6,7,8,9]],\n",
    "            [[0,1,2,3,4],\n",
    "             [5,6,7,8,9]]])\n",
    "print(a.ndim)#Gives Dimensions in array\n",
    "print(a.shape)#gives set of elements\n",
    "print(a.size)#gives number of elements"
   ]
  },
  {
   "cell_type": "markdown",
   "metadata": {},
   "source": [
    "Reshaping 1 dimensional to 2 Dimensional"
   ]
  },
  {
   "cell_type": "code",
   "execution_count": 36,
   "metadata": {},
   "outputs": [
    {
     "name": "stdout",
     "output_type": "stream",
     "text": [
      "reshape arr1 [[1 2 3]\n",
      " [4 5 6]\n",
      " [7 8 9]]\n",
      "reshape arr3 [['L' 'E']\n",
      " ['N' 'O']\n",
      " ['V' 'O']]\n"
     ]
    }
   ],
   "source": [
    "import numpy as np\n",
    "arr1=np.array([1,2,3,4,5,6,7,8,9])\n",
    "arr2=arr1.reshape(3,3)# Reshaping into 2 dimensional\n",
    "arr3=np.array(['L','E','N','O','V','O'])\n",
    "arr4=arr3.reshape(3,2)\n",
    "print(\"reshape arr1\",arr2)\n",
    "print(\"reshape arr3\",arr4)"
   ]
  },
  {
   "cell_type": "markdown",
   "metadata": {},
   "source": [
    "Reshaping 1 dimensional to 3 dimensional"
   ]
  },
  {
   "cell_type": "code",
   "execution_count": 39,
   "metadata": {},
   "outputs": [
    {
     "name": "stdout",
     "output_type": "stream",
     "text": [
      "reshaping into multidimensional: [[[ 0  1]\n",
      "  [ 2  3]\n",
      "  [ 4  5]\n",
      "  [ 6  7]\n",
      "  [ 8  9]]\n",
      "\n",
      " [[10 11]\n",
      "  [12 13]\n",
      "  [14 15]\n",
      "  [16 17]\n",
      "  [18 19]]]\n"
     ]
    }
   ],
   "source": [
    "import numpy as np\n",
    "a=np.arange(1,20)# getting elements from 1 to 20\n",
    "b=a.reshape(2,5,2)#first argument(2)--2 elements in a set, second argument(5)--5 set of columns, third arguments(2) \n",
    "print(\"reshaping into multidimensional:\",b)"
   ]
  },
  {
   "cell_type": "markdown",
   "metadata": {},
   "source": [
    "reshaping multidimensional array into 1 dimensional"
   ]
  },
  {
   "cell_type": "code",
   "execution_count": 42,
   "metadata": {},
   "outputs": [
    {
     "name": "stdout",
     "output_type": "stream",
     "text": [
      "[1 2 3 4 5 6 7 8]\n"
     ]
    }
   ],
   "source": [
    "import numpy as np\n",
    "a=np.array([[[1,2],[3,4]],\n",
    "            [[5,6],[7,8]]])\n",
    "print(a.reshape(-1))# Reshaping"
   ]
  },
  {
   "cell_type": "markdown",
   "metadata": {},
   "source": [
    "# Numpy sorting means according to ascending order"
   ]
  },
  {
   "cell_type": "code",
   "execution_count": 45,
   "metadata": {},
   "outputs": [
    {
     "name": "stdout",
     "output_type": "stream",
     "text": [
      "[2 3 4 5 6 7 8 8 9]\n"
     ]
    }
   ],
   "source": [
    "import numpy as np\n",
    "a=np.array([8,5,6,7,2,3,4,8,9])# for numbers\n",
    "print(np.sort(a))"
   ]
  },
  {
   "cell_type": "code",
   "execution_count": 47,
   "metadata": {},
   "outputs": [
    {
     "name": "stdout",
     "output_type": "stream",
     "text": [
      "['a' 'a' 'b' 'g' 'g' 'h' 'i' 'i' 'j' 'k' 'n' 'r' 's']\n"
     ]
    }
   ],
   "source": [
    "import numpy as np\n",
    "a=np.array(['a','g','h','r','i','k','s','n','i','a','g','j','b'])# sorting a str array\n",
    "print(np.sort(a))"
   ]
  },
  {
   "cell_type": "code",
   "execution_count": 53,
   "metadata": {},
   "outputs": [
    {
     "name": "stdout",
     "output_type": "stream",
     "text": [
      "[[1 2 3]\n",
      " [2 3 8]]\n"
     ]
    }
   ],
   "source": [
    "import numpy as np\n",
    "a=([[1,3,2],[8,3,2]])# sorting dimensional array\n",
    "print(np.sort(a))"
   ]
  },
  {
   "cell_type": "markdown",
   "metadata": {},
   "source": [
    "# Numpy Searching\n",
    "where:"
   ]
  },
  {
   "cell_type": "code",
   "execution_count": 55,
   "metadata": {},
   "outputs": [
    {
     "name": "stdout",
     "output_type": "stream",
     "text": [
      "(array([3, 5, 6], dtype=int64),)\n",
      "(array([1, 3, 5, 6], dtype=int64),)\n",
      "(array([0, 2, 4], dtype=int64),)\n"
     ]
    }
   ],
   "source": [
    "import numpy as np\n",
    "arr1 = np.array([1, 2, 3, 4, 5, 4, 4])\n",
    "x = np.where(arr1 == 4)# tells location of 4\n",
    "y = np.where(arr1%2 == 0)\n",
    "z = np.where(arr1%2 == 1)\n",
    "print(x)\n",
    "print(y)\n",
    "print(z)"
   ]
  },
  {
   "cell_type": "markdown",
   "metadata": {},
   "source": [
    "searchsorted():"
   ]
  },
  {
   "cell_type": "code",
   "execution_count": 56,
   "metadata": {},
   "outputs": [
    {
     "name": "stdout",
     "output_type": "stream",
     "text": [
      "1\n",
      "[1 2 3]\n"
     ]
    }
   ],
   "source": [
    "import numpy as np\n",
    "arr1 = np.array([6, 7, 8, 9])\n",
    "x = np.searchsorted(arr1, 7)\n",
    "print(x)\n",
    "   \n",
    "   # Multiple values\n",
    "arr2 = np.array([1, 3, 5, 7])\n",
    "y = np.searchsorted(arr2, [2, 4, 6])\n",
    "print(y)"
   ]
  },
  {
   "cell_type": "markdown",
   "metadata": {},
   "source": [
    "# Mean, Median,Mode\n",
    "Mean"
   ]
  },
  {
   "cell_type": "code",
   "execution_count": 58,
   "metadata": {},
   "outputs": [
    {
     "name": "stdout",
     "output_type": "stream",
     "text": [
      "5.5\n"
     ]
    }
   ],
   "source": [
    "import numpy as np\n",
    "a=np.array([1,2,3,4,5,6,7,8,9,10])\n",
    "print(np.mean(a))"
   ]
  },
  {
   "cell_type": "markdown",
   "metadata": {},
   "source": [
    "Median"
   ]
  },
  {
   "cell_type": "code",
   "execution_count": 63,
   "metadata": {},
   "outputs": [
    {
     "name": "stdout",
     "output_type": "stream",
     "text": [
      "5.5\n",
      "14.5\n"
     ]
    }
   ],
   "source": [
    "import numpy as np\n",
    "a=np.array([1,2,3,4,5,6,7,8,9,10])\n",
    "b=np.array([1,4,5,6,7,28,9,20,34,77,44,65])\n",
    "print(np.median(a))\n",
    "print(np.median(b))"
   ]
  },
  {
   "cell_type": "markdown",
   "metadata": {},
   "source": [
    "# Mode"
   ]
  },
  {
   "cell_type": "code",
   "execution_count": 66,
   "metadata": {},
   "outputs": [
    {
     "name": "stdout",
     "output_type": "stream",
     "text": [
      "ModeResult(mode=array([11]), count=array([1]))\n"
     ]
    }
   ],
   "source": [
    "from scipy import stats\n",
    "a=([11,22,33,44,55,66,77,88,111])\n",
    "print(stats.mode(a))"
   ]
  },
  {
   "cell_type": "markdown",
   "metadata": {},
   "source": [
    "# Standard Deviation (σ)"
   ]
  },
  {
   "cell_type": "code",
   "execution_count": 67,
   "metadata": {},
   "outputs": [
    {
     "name": "stdout",
     "output_type": "stream",
     "text": [
      "30.630413353760378\n"
     ]
    }
   ],
   "source": [
    "import numpy as np\n",
    "a=([11,22,33,44,55,66,77,88,111])\n",
    "print(np.std(a))"
   ]
  }
 ],
 "metadata": {
  "kernelspec": {
   "display_name": "Python 3",
   "language": "python",
   "name": "python3"
  },
  "language_info": {
   "codemirror_mode": {
    "name": "ipython",
    "version": 3
   },
   "file_extension": ".py",
   "mimetype": "text/x-python",
   "name": "python",
   "nbconvert_exporter": "python",
   "pygments_lexer": "ipython3",
   "version": "3.8.3"
  }
 },
 "nbformat": 4,
 "nbformat_minor": 4
}
