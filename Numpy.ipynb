{
 "cells": [
  {
   "cell_type": "markdown",
   "metadata": {},
   "source": [
    "# Numpy\n",
    "Numpy stands for numerical Python and is the code library for numerical and scientific operations\n",
    "NumPy **(Numerical Python)** is an open source Python library that’s used  for working with numerical data in Python.\n",
    "It is a general-purpose array-processing package. It provides a high-performance multidimensional array object, and tools for working with these arrays. It is the fundamental package for scientific computing with Python."
   ]
  },
  {
   "cell_type": "code",
   "execution_count": 4,
   "metadata": {},
   "outputs": [
    {
     "name": "stdout",
     "output_type": "stream",
     "text": [
      "Requirement already satisfied: numpy in c:\\users\\balas\\data\\lib\\site-packages (1.18.5)\n",
      "Note: you may need to restart the kernel to use updated packages.\n"
     ]
    }
   ],
   "source": [
    "pip install numpy#numpy installation"
   ]
  },
  {
   "cell_type": "code",
   "execution_count": 5,
   "metadata": {},
   "outputs": [],
   "source": [
    "import numpy as np# importing numpy"
   ]
  },
  {
   "cell_type": "markdown",
   "metadata": {},
   "source": [
    "# single dimensional array"
   ]
  },
  {
   "cell_type": "code",
   "execution_count": 15,
   "metadata": {},
   "outputs": [
    {
     "name": "stdout",
     "output_type": "stream",
     "text": [
      "[10 20 30 40]\n",
      "['a' 'b' 'c' 'd']\n",
      "['10' 'a' '20' 'b']\n",
      "<class 'numpy.ndarray'>\n",
      "<class 'numpy.ndarray'>\n"
     ]
    }
   ],
   "source": [
    "import numpy as np\n",
    "n1=np.array([10,20,30,40])\n",
    "arr1=np.array(['a','b','c','d'])\n",
    "n2=np.array((10,'a',20,'b'))# for tuple\n",
    "print(n1)\n",
    "print(arr1)\n",
    "print(n2)\n",
    "print(type(n2))\n",
    "print(type(n1))"
   ]
  },
  {
   "cell_type": "markdown",
   "metadata": {},
   "source": [
    "# np.zeros(),np.ones(), np.arange()"
   ]
  },
  {
   "cell_type": "code",
   "execution_count": 21,
   "metadata": {},
   "outputs": [
    {
     "name": "stdout",
     "output_type": "stream",
     "text": [
      "[0. 0. 0. 0. 0. 0. 0. 0. 0. 0.]\n",
      "[1. 1. 1. 1. 1.]\n",
      "[0 1 2 3 4 5 6 7 8 9]\n",
      "<class 'numpy.ndarray'>\n"
     ]
    },
    {
     "data": {
      "text/plain": [
       "numpy.ndarray"
      ]
     },
     "execution_count": 21,
     "metadata": {},
     "output_type": "execute_result"
    }
   ],
   "source": [
    "# import numpy as np\n",
    "a=np.zeros(10)\n",
    "b=np.ones(5)\n",
    "c=np.arange(10)\n",
    "print(a)\n",
    "print(b)\n",
    "print(c)\n",
    "print(type(a))\n",
    "type(b)"
   ]
  },
  {
   "cell_type": "markdown",
   "metadata": {},
   "source": [
    "# Array numpy with zeros((first argument,second argument))\n",
    "np.zeros((1st argument,2nd argument))"
   ]
  },
  {
   "cell_type": "code",
   "execution_count": 24,
   "metadata": {},
   "outputs": [
    {
     "name": "stdout",
     "output_type": "stream",
     "text": [
      "[[0. 0. 0.]\n",
      " [0. 0. 0.]]\n"
     ]
    },
    {
     "data": {
      "text/plain": [
       "array([[0., 0., 0., 0., 0.],\n",
       "       [0., 0., 0., 0., 0.],\n",
       "       [0., 0., 0., 0., 0.],\n",
       "       [0., 0., 0., 0., 0.],\n",
       "       [0., 0., 0., 0., 0.]])"
      ]
     },
     "execution_count": 24,
     "metadata": {},
     "output_type": "execute_result"
    }
   ],
   "source": [
    "import numpy as np\n",
    "n1=np.zeros((2,3))# 2-rows and 3-columns\n",
    "n2=np.zeros((5,5))# 5-rows and 5-columns\n",
    "print(n1)\n",
    "n2"
   ]
  },
  {
   "cell_type": "markdown",
   "metadata": {},
   "source": [
    "# Array with same number to be printed for the whole\n",
    "#np.full((1,2),500)"
   ]
  },
  {
   "cell_type": "code",
   "execution_count": 25,
   "metadata": {},
   "outputs": [
    {
     "data": {
      "text/plain": [
       "array([[200, 200, 200],\n",
       "       [200, 200, 200],\n",
       "       [200, 200, 200],\n",
       "       [200, 200, 200]])"
      ]
     },
     "execution_count": 25,
     "metadata": {},
     "output_type": "execute_result"
    }
   ],
   "source": [
    "_a=np.full((4,3),200)#printing 200 in 4-rows and 3-columns\n",
    "_a\n"
   ]
  },
  {
   "cell_type": "markdown",
   "metadata": {},
   "source": [
    "# np.arange(first argument,second argument)"
   ]
  },
  {
   "cell_type": "code",
   "execution_count": 27,
   "metadata": {},
   "outputs": [
    {
     "data": {
      "text/plain": [
       "array([1, 2, 3, 4])"
      ]
     },
     "execution_count": 27,
     "metadata": {},
     "output_type": "execute_result"
    }
   ],
   "source": [
    "_b=np.arange(1,5)\n",
    "_b"
   ]
  },
  {
   "cell_type": "code",
   "execution_count": 35,
   "metadata": {},
   "outputs": [
    {
     "name": "stdout",
     "output_type": "stream",
     "text": [
      "[  3   6   9  12  15  18  21  24  27  30  33  36  39  42  45  48  51  54\n",
      "  57  60  63  66  69  72  75  78  81  84  87  90  93  96  99 102 105 108\n",
      " 111 114 117 120 123 126 129 132 135 138 141 144 147 150 153 156 159 162\n",
      " 165 168 171 174 177 180 183 186 189 192 195 198 201 204 207 210 213 216\n",
      " 219 222 225 228 231 234 237 240 243 246 249 252 255 258 261 264 267 270\n",
      " 273 276 279 282 285 288 291 294 297 300 303 306 309 312 315 318 321 324\n",
      " 327 330 333 336 339 342 345 348 351 354 357 360 363 366 369 372 375 378\n",
      " 381 384 387 390 393 396 399 402 405 408 411 414 417 420 423 426 429 432\n",
      " 435 438 441 444 447 450 453 456 459 462 465 468 471 474 477 480 483 486\n",
      " 489 492 495 498 501 504 507 510 513 516 519 522 525 528 531 534 537 540\n",
      " 543 546 549 552 555 558 561 564 567 570 573 576 579 582 585 588 591 594\n",
      " 597 600 603 606 609 612 615 618 621 624 627 630 633 636 639 642 645 648\n",
      " 651 654 657 660 663 666 669 672 675 678 681 684 687 690 693 696 699 702\n",
      " 705 708 711 714 717 720 723 726 729 732 735 738 741 744 747 750 753 756\n",
      " 759 762 765 768 771 774 777 780 783 786 789 792 795 798 801 804 807 810\n",
      " 813 816 819 822 825 828 831 834 837 840 843 846 849 852 855 858 861 864\n",
      " 867 870 873 876 879 882 885 888 891 894 897 900]\n",
      "300\n"
     ]
    }
   ],
   "source": [
    "#np.arange(first argument,second argument,Third argument)\n",
    "_c=np.arange(3,903,3)\n",
    "print(_c)\n",
    "print(len(_c))"
   ]
  },
  {
   "cell_type": "markdown",
   "metadata": {},
   "source": [
    "# ramdom numbers"
   ]
  },
  {
   "cell_type": "code",
   "execution_count": 46,
   "metadata": {},
   "outputs": [
    {
     "data": {
      "text/plain": [
       "array([323, 130, 361, 171, 214])"
      ]
     },
     "execution_count": 46,
     "metadata": {},
     "output_type": "execute_result"
    }
   ],
   "source": [
    "np.random.randint(101,505,5)"
   ]
  },
  {
   "cell_type": "markdown",
   "metadata": {},
   "source": [
    "# Array shape"
   ]
  },
  {
   "cell_type": "code",
   "execution_count": 51,
   "metadata": {},
   "outputs": [
    {
     "name": "stdout",
     "output_type": "stream",
     "text": [
      "(2, 4)\n"
     ]
    },
    {
     "data": {
      "text/plain": [
       "array([[1, 2, 3, 4],\n",
       "       [5, 6, 7, 8]])"
      ]
     },
     "execution_count": 51,
     "metadata": {},
     "output_type": "execute_result"
    }
   ],
   "source": [
    "n_1=np.array([[1,2,3,4],[5,6,7,8]])\n",
    "print(n_1.shape)\n",
    "n_1"
   ]
  },
  {
   "cell_type": "code",
   "execution_count": 54,
   "metadata": {},
   "outputs": [
    {
     "data": {
      "text/plain": [
       "array([[1, 2],\n",
       "       [3, 4],\n",
       "       [5, 6],\n",
       "       [7, 8]])"
      ]
     },
     "execution_count": 54,
     "metadata": {},
     "output_type": "execute_result"
    }
   ],
   "source": [
    "n_1.shape=(4,2)\n",
    "n_1"
   ]
  },
  {
   "cell_type": "code",
   "execution_count": 104,
   "metadata": {},
   "outputs": [
    {
     "name": "stdout",
     "output_type": "stream",
     "text": [
      "(2, 4)\n",
      "(4,)\n"
     ]
    }
   ],
   "source": [
    "arr = np.array([[1, 2, 3, 4], [5, 6, 7, 8]])\n",
    "arr1= np.array([1,2,3,4])\n",
    "print(arr.shape)\n",
    "print(arr1.shape)"
   ]
  },
  {
   "cell_type": "code",
   "execution_count": 105,
   "metadata": {},
   "outputs": [
    {
     "name": "stdout",
     "output_type": "stream",
     "text": [
      "No of dimensions of the array: 3\n",
      "Total no of elements of the array: 24\n",
      "Shape of the array: (3, 2, 4)\n"
     ]
    }
   ],
   "source": [
    "array_example = np.array([[[0, 1, 2, 3],\n",
    "                            [4, 5, 6, 7]],\n",
    "\n",
    "                           [[0, 1, 2, 3],\n",
    "                            [4, 5, 6, 7]],\n",
    "\n",
    "                           [[0 ,1 ,2, 3],\n",
    "                            [4, 5, 6, 7]]])\n",
    " \n",
    "print('No of dimensions of the array:',array_example.ndim)     # .ndim for dimensions\n",
    "print('Total no of elements of the array:',array_example.size) # .size for size\n",
    "print('Shape of the array:',array_example.shape)                # .shape for shape"
   ]
  },
  {
   "cell_type": "code",
   "execution_count": 106,
   "metadata": {},
   "outputs": [
    {
     "name": "stdout",
     "output_type": "stream",
     "text": [
      "[[ 1  2  3]\n",
      " [ 4  5  6]\n",
      " [ 7  8  9]\n",
      " [10 11 12]]\n",
      "[['D' 'e' 'V']\n",
      " ['I' 'n' 'c']\n",
      " ['e' 'p' 't']]\n"
     ]
    }
   ],
   "source": [
    "arr1 = np.array([1, 2, 3, 4, 5, 6, 7, 8, 9, 10, 11, 12])\n",
    "newarr1 = arr1.reshape(4, 3)\n",
    "arr2 = np.array(['D','e','V','I','n','c','e','p','t'])\n",
    "newarr2 = arr2.reshape(3,3)\n",
    "print(newarr1)\n",
    "print(newarr2)"
   ]
  },
  {
   "cell_type": "code",
   "execution_count": 107,
   "metadata": {},
   "outputs": [
    {
     "name": "stdout",
     "output_type": "stream",
     "text": [
      "[[[ 1  2]\n",
      "  [ 3  4]\n",
      "  [ 5  6]]\n",
      "\n",
      " [[ 7  8]\n",
      "  [ 9 10]\n",
      "  [11 12]]]\n"
     ]
    }
   ],
   "source": [
    "arr = np.array([1, 2, 3, 4, 5, 6, 7, 8, 9, 10, 11, 12])\n",
    "newarr = arr.reshape(2, 3, 2)\n",
    "print(newarr)"
   ]
  },
  {
   "cell_type": "code",
   "execution_count": 109,
   "metadata": {},
   "outputs": [
    {
     "name": "stdout",
     "output_type": "stream",
     "text": [
      "[1 2 3 4 5 6]\n"
     ]
    }
   ],
   "source": [
    "arr = np.array([[1, 2, 3], [4, 5, 6]])\n",
    "newarr = arr.reshape(-1)\n",
    "print(newarr)"
   ]
  },
  {
   "cell_type": "markdown",
   "metadata": {
    "colab_type": "text",
    "id": "HsOUztvfAeQG"
   },
   "source": [
    "## **NumPy Sorting and Searching**"
   ]
  },
  {
   "cell_type": "markdown",
   "metadata": {},
   "source": [
    "### **NumPy Sorting**"
   ]
  },
  {
   "cell_type": "code",
   "execution_count": 111,
   "metadata": {},
   "outputs": [
    {
     "name": "stdout",
     "output_type": "stream",
     "text": [
      "[0 1 2 3]\n",
      "['blue' 'green' 'red']\n",
      "[[2 3 4]\n",
      " [0 1 5]]\n"
     ]
    }
   ],
   "source": [
    "   import numpy as np\n",
    "   arr1 = np.array([3, 2, 0, 1])\n",
    "   arr2 = np.array(['red','blue','green'])\n",
    "   \n",
    "   # 2-D array\n",
    "   arr3 = np.array([[3, 2, 4], [5, 0, 1]])\n",
    "   \n",
    "   print(np.sort(arr1))\n",
    "   print(np.sort(arr2))\n",
    "   print(np.sort(arr3))"
   ]
  },
  {
   "cell_type": "markdown",
   "metadata": {
    "colab_type": "text",
    "id": "oX7tR9X7AuVv"
   },
   "source": [
    "### **NumPy Searching**"
   ]
  },
  {
   "cell_type": "markdown",
   "metadata": {},
   "source": [
    "**where() :**"
   ]
  },
  {
   "cell_type": "code",
   "execution_count": 112,
   "metadata": {},
   "outputs": [
    {
     "name": "stdout",
     "output_type": "stream",
     "text": [
      "(array([3, 5, 6], dtype=int64),)\n",
      "(array([1, 3, 5, 6], dtype=int64),)\n",
      "(array([0, 2, 4], dtype=int64),)\n"
     ]
    }
   ],
   "source": [
    "   import numpy as np\n",
    "   arr1 = np.array([1, 2, 3, 4, 5, 4, 4])\n",
    "   x = np.where(arr1 == 4)\n",
    "   y = np.where(arr1%2 == 0)\n",
    "   z = np.where(arr1%2 == 1)\n",
    "   print(x)\n",
    "   print(y)\n",
    "   print(z)"
   ]
  },
  {
   "cell_type": "markdown",
   "metadata": {
    "colab_type": "text",
    "id": "Fd5_Dqq4A5u3"
   },
   "source": [
    "**searchsorted() :**"
   ]
  },
  {
   "cell_type": "code",
   "execution_count": 113,
   "metadata": {},
   "outputs": [
    {
     "name": "stdout",
     "output_type": "stream",
     "text": [
      "1\n",
      "[1 2 3]\n"
     ]
    }
   ],
   "source": [
    "   import numpy as np\n",
    "   arr1 = np.array([6, 7, 8, 9])\n",
    "   x = np.searchsorted(arr1, 7)\n",
    "   print(x)\n",
    "   \n",
    "   # Multiple values\n",
    "   arr2 = np.array([1, 3, 5, 7])\n",
    "   y = np.searchsorted(arr2, [2, 4, 6])\n",
    "   print(y)"
   ]
  },
  {
   "cell_type": "markdown",
   "metadata": {
    "colab_type": "text",
    "id": "qAb3kEOSBMtT"
   },
   "source": [
    "### **Mean**"
   ]
  },
  {
   "cell_type": "code",
   "execution_count": 114,
   "metadata": {},
   "outputs": [
    {
     "name": "stdout",
     "output_type": "stream",
     "text": [
      "87.0\n",
      "86.5\n"
     ]
    }
   ],
   "source": [
    "   import numpy\n",
    "   # For one value in the middle\n",
    "   speed = [99,86,87,88,111,86,103,87,94,78,77,85,86]\n",
    "   x = numpy.median(speed)\n",
    "   print(x)\n",
    "   \n",
    "   # For two values in the middle\n",
    "   speed1 = [99,86,87,88,86,103,87,94,78,77,85,86]\n",
    "   y = numpy.median(speed1)\n",
    "   print(y)"
   ]
  },
  {
   "cell_type": "markdown",
   "metadata": {},
   "source": [
    "### **Mode**"
   ]
  },
  {
   "cell_type": "code",
   "execution_count": 116,
   "metadata": {},
   "outputs": [
    {
     "name": "stdout",
     "output_type": "stream",
     "text": [
      "ModeResult(mode=array([86]), count=array([3]))\n"
     ]
    }
   ],
   "source": [
    "   from scipy import stats\n",
    "   speed = [99,86,87,88,111,86,103,87,94,78,77,85,86]\n",
    "   x = stats.mode(speed)\n",
    "   print(x)"
   ]
  },
  {
   "cell_type": "markdown",
   "metadata": {},
   "source": [
    "## **Standard Deviation (σ)**"
   ]
  },
  {
   "cell_type": "code",
   "execution_count": 117,
   "metadata": {},
   "outputs": [
    {
     "name": "stdout",
     "output_type": "stream",
     "text": [
      "0.9035079029052513\n",
      "37.84501153334721\n"
     ]
    }
   ],
   "source": [
    "   import numpy\n",
    "   speed = [86,87,88,86,87,85,86]\n",
    "   x = numpy.std(speed)\n",
    "   print(x)\n",
    "   \n",
    "   speed1 = [32,111,138,28,59,77,97]\n",
    "   y = numpy.std(speed1)\n",
    "   print(y)"
   ]
  },
  {
   "cell_type": "markdown",
   "metadata": {},
   "source": [
    "# Stacking"
   ]
  },
  {
   "cell_type": "code",
   "execution_count": 55,
   "metadata": {},
   "outputs": [
    {
     "data": {
      "text/plain": [
       "array([[1, 2, 3],\n",
       "       [4, 5, 6]])"
      ]
     },
     "execution_count": 55,
     "metadata": {},
     "output_type": "execute_result"
    }
   ],
   "source": [
    "#vstacking\n",
    "na1=np.array([1,2,3])\n",
    "na2=np.array([4,5,6])\n",
    "np.vstack((na1,na2))"
   ]
  },
  {
   "cell_type": "code",
   "execution_count": 56,
   "metadata": {},
   "outputs": [
    {
     "data": {
      "text/plain": [
       "array([1, 2, 3, 4, 5, 6])"
      ]
     },
     "execution_count": 56,
     "metadata": {},
     "output_type": "execute_result"
    }
   ],
   "source": [
    "#hstack\n",
    "np.hstack((na1,na2))"
   ]
  },
  {
   "cell_type": "code",
   "execution_count": 58,
   "metadata": {},
   "outputs": [
    {
     "data": {
      "text/plain": [
       "array([[1, 4],\n",
       "       [2, 5],\n",
       "       [3, 6]])"
      ]
     },
     "execution_count": 58,
     "metadata": {},
     "output_type": "execute_result"
    }
   ],
   "source": [
    "#column stack\n",
    "np.column_stack((na1,na2))"
   ]
  },
  {
   "cell_type": "markdown",
   "metadata": {},
   "source": [
    "# Numpy intersepection and Differance"
   ]
  },
  {
   "cell_type": "code",
   "execution_count": 61,
   "metadata": {},
   "outputs": [
    {
     "data": {
      "text/plain": [
       "array([ 3, 10, 11])"
      ]
     },
     "execution_count": 61,
     "metadata": {},
     "output_type": "execute_result"
    }
   ],
   "source": [
    "n1=np.array([[1,2,3,4],[10,11,2,13]])\n",
    "n2=np.array([[5,6,7,8],[10,11,12,3]])\n",
    "np.intersect1d(n1,n2)#  To find the intersepection between the elements"
   ]
  },
  {
   "cell_type": "code",
   "execution_count": 63,
   "metadata": {},
   "outputs": [
    {
     "data": {
      "text/plain": [
       "array([ 1,  2,  4, 13])"
      ]
     },
     "execution_count": 63,
     "metadata": {},
     "output_type": "execute_result"
    }
   ],
   "source": [
    "np.setdiff1d(n1,n2)"
   ]
  },
  {
   "cell_type": "code",
   "execution_count": 64,
   "metadata": {},
   "outputs": [
    {
     "data": {
      "text/plain": [
       "array([ 5,  6,  7,  8, 12])"
      ]
     },
     "execution_count": 64,
     "metadata": {},
     "output_type": "execute_result"
    }
   ],
   "source": [
    "np.setdiff1d(n2,n1)"
   ]
  },
  {
   "cell_type": "markdown",
   "metadata": {},
   "source": [
    "# Array indexing slicing and basic operators are similar to Lists"
   ]
  },
  {
   "cell_type": "code",
   "execution_count": 72,
   "metadata": {},
   "outputs": [
    {
     "name": "stdout",
     "output_type": "stream",
     "text": [
      "[3 6 9]\n",
      "[ 2  8 18]\n",
      "[1 2 3]\n",
      "[2. 2. 2.]\n",
      "[3 5 7]\n",
      "[ 6 12 18]\n",
      "[ 6 12 18]\n"
     ]
    }
   ],
   "source": [
    "n1=np.array([2,4,6])\n",
    "n2=np.array([1,2,3])\n",
    "print(n1+n2)\n",
    "print(n1*n2)\n",
    "print(n1-n2)\n",
    "print(n1/n2)\n",
    "print(n1+1)\n",
    "print(n1*3)\n",
    "print(n1*3)"
   ]
  },
  {
   "cell_type": "markdown",
   "metadata": {},
   "source": [
    "# Mutli dimensional array"
   ]
  },
  {
   "cell_type": "code",
   "execution_count": 20,
   "metadata": {},
   "outputs": [
    {
     "name": "stdout",
     "output_type": "stream",
     "text": [
      "[[1 2 3 4]\n",
      " [5 6 7 8]]\n"
     ]
    },
    {
     "data": {
      "text/plain": [
       "numpy.ndarray"
      ]
     },
     "execution_count": 20,
     "metadata": {},
     "output_type": "execute_result"
    }
   ],
   "source": [
    "import numpy as np\n",
    "narray=np.array([[1,2,3,4],[5,6,7,8]])\n",
    "print(narray)\n",
    "type(narray)"
   ]
  },
  {
   "cell_type": "markdown",
   "metadata": {},
   "source": [
    "# Slicing and Indexing"
   ]
  },
  {
   "cell_type": "code",
   "execution_count": 97,
   "metadata": {},
   "outputs": [
    {
     "name": "stdout",
     "output_type": "stream",
     "text": [
      "[[1 2 3 4]\n",
      " [5 6 7 8]]\n",
      "[5 6 7 8] [3]\n"
     ]
    }
   ],
   "source": [
    "n1=np.array([[1,2,3,4],[5,6,7,8]])\n",
    "print(n1)\n",
    "print(n1[1],[3])"
   ]
  },
  {
   "cell_type": "code",
   "execution_count": 102,
   "metadata": {},
   "outputs": [
    {
     "data": {
      "text/plain": [
       "array([], shape=(0, 4), dtype=int32)"
      ]
     },
     "execution_count": 102,
     "metadata": {},
     "output_type": "execute_result"
    }
   ],
   "source": [
    "n1[0:1][1:2]"
   ]
  },
  {
   "cell_type": "code",
   "execution_count": null,
   "metadata": {},
   "outputs": [],
   "source": []
  }
 ],
 "metadata": {
  "kernelspec": {
   "display_name": "Python 3",
   "language": "python",
   "name": "python3"
  },
  "language_info": {
   "codemirror_mode": {
    "name": "ipython",
    "version": 3
   },
   "file_extension": ".py",
   "mimetype": "text/x-python",
   "name": "python",
   "nbconvert_exporter": "python",
   "pygments_lexer": "ipython3",
   "version": "3.8.3"
  }
 },
 "nbformat": 4,
 "nbformat_minor": 4
}
